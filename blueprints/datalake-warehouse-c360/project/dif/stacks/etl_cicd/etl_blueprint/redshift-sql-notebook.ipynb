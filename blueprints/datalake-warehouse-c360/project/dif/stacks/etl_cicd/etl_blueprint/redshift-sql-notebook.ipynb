{
 "cells": [
  {
   "cell_type": "markdown",
   "id": "1f7439a3",
   "metadata": {},
   "source": [
    "# Redshift SQL Notebook "
   ]
  },
  {
   "cell_type": "markdown",
   "id": "e283e844",
   "metadata": {},
   "source": [
    "***\n",
    "\n",
    "#### Steps to connect to Redshift\n",
    "<ol>\n",
    "    <li> Setup JupySQL SQL package </li>\n",
    "    <li> Read connection infromation from secret </li>\n",
    "    <li> Query using %sql or %%sql </li>\n",
    "    <li> Visualize your data using pandas </li>\n",
    "</ol>\n",
    "\n",
    "<div class=\"alert alert-block alert-info\">\n",
    "<b>NOTE :</b> \n",
    "<ol>\n",
    "    <li> The notebook connects to the project's Redshift serverless cluster using the admin account secret. You should modify to connect using credentials created for you in sercet manager\n",
    "<li> Connect to EMR cluster or serverless\n",
    "    <li> Set kernel as Python 3</ol></div>\n"
   ]
  },
  {
   "cell_type": "markdown",
   "id": "02facc47",
   "metadata": {},
   "source": [
    "---\n",
    "## 2. Install packages from PyPI\n",
    "We will install jupysql Python package. \n",
    "<div class=\"alert alert-block alert-info\">\n",
    "<b>NOTE :</b> You will need internet access to do this step. This requires your EMR cluster or serverless to be able to connect to pypi on internet. The security group for EMR would need to allow that and VPC should have NAT and IG. In case you do not have that, you may want to use custom EMR serverless image or custom EMR image with jupysql pre-installed. </div>"
   ]
  },
  {
   "cell_type": "code",
   "execution_count": 2,
   "id": "bd12d484",
   "metadata": {
    "execution": {
     "iopub.execute_input": "2024-03-16T05:17:12.963847Z",
     "iopub.status.busy": "2024-03-16T05:17:12.963100Z",
     "iopub.status.idle": "2024-03-16T05:17:28.682466Z",
     "shell.execute_reply": "2024-03-16T05:17:28.681654Z",
     "shell.execute_reply.started": "2024-03-16T05:17:12.963817Z"
    },
    "tags": []
   },
   "outputs": [
    {
     "name": "stdout",
     "output_type": "stream",
     "text": [
      "\u001b[33m  WARNING: The script sqlformat is installed in '/home/hadoop/.local/bin' which is not on PATH.\n",
      "  Consider adding this directory to PATH or, if you prefer to suppress this warning, use --no-warn-script-location.\u001b[0m\n",
      "Note: you may need to restart the kernel to use updated packages.\n"
     ]
    }
   ],
   "source": [
    "%pip install jupysql sqlalchemy-redshift redshift-connector 'sqlalchemy<2' --quiet"
   ]
  },
  {
   "cell_type": "markdown",
   "id": "26a5516b",
   "metadata": {},
   "source": [
    "---\n",
    "## 3. Setup Connection\n",
    "We will use a public data set on NYC yellow taxis. Read the Parquet file from S3. The file has headers and we want Spark to infer the schema. \n",
    "<div class=\"alert alert-block alert-info\">\n",
    "<b>NOTE :</b> You will need to update your runtime role to allow Get access to the s3://athena-examples-us-east-1/notebooks/ folder and its sub-folders.</div>"
   ]
  },
  {
   "cell_type": "code",
   "execution_count": 3,
   "id": "e2e92b4f-0fb5-44bb-ad34-36d3170e77c3",
   "metadata": {
    "execution": {
     "iopub.execute_input": "2024-03-16T05:17:32.323565Z",
     "iopub.status.busy": "2024-03-16T05:17:32.323100Z",
     "iopub.status.idle": "2024-03-16T05:17:34.390017Z",
     "shell.execute_reply": "2024-03-16T05:17:34.389179Z",
     "shell.execute_reply.started": "2024-03-16T05:17:32.323533Z"
    },
    "tags": []
   },
   "outputs": [
    {
     "name": "stdout",
     "output_type": "stream",
     "text": [
      "Deploy Dash apps for free on Ploomber Cloud! Learn more: https://ploomber.io/s/signup\n"
     ]
    }
   ],
   "source": [
    "%load_ext sql"
   ]
  },
  {
   "cell_type": "code",
   "execution_count": 4,
   "id": "04d5f89f-66e3-4fba-adb5-521d8e0f250d",
   "metadata": {
    "execution": {
     "iopub.execute_input": "2024-03-16T05:17:37.588576Z",
     "iopub.status.busy": "2024-03-16T05:17:37.587804Z",
     "iopub.status.idle": "2024-03-16T05:17:37.793290Z",
     "shell.execute_reply": "2024-03-16T05:17:37.792453Z",
     "shell.execute_reply.started": "2024-03-16T05:17:37.588539Z"
    },
    "tags": []
   },
   "outputs": [
    {
     "name": "stderr",
     "output_type": "stream",
     "text": [
      "/home/hadoop/.local/lib/python3.7/site-packages/boto3/compat.py:82: PythonDeprecationWarning: Boto3 will no longer support Python 3.7 starting December 13, 2023. To continue receiving service updates, bug fixes, and security updates please upgrade to Python 3.8 or later. More information can be found here: https://aws.amazon.com/blogs/developer/python-support-policy-updates-for-aws-sdks-and-tools/\n",
      "  warnings.warn(warning, PythonDeprecationWarning)\n"
     ]
    }
   ],
   "source": [
    "from os import environ\n",
    "from sqlalchemy import create_engine\n",
    "from sqlalchemy.engine import URL\n",
    "import boto3\n",
    "import json \n",
    "\n",
    "sm_client = boto3.client('secretsmanager',region_name=\"us-east-1\")\n",
    "secret = sm_client.get_secret_value(SecretId=\"redshift!core-namespace-admin\")\n",
    "secret_dict = json.loads(secret['SecretString'])\n"
   ]
  },
  {
   "cell_type": "code",
   "execution_count": 5,
   "id": "e27212b3-06a3-4dd1-9312-ef085f84470b",
   "metadata": {
    "execution": {
     "iopub.execute_input": "2024-03-16T05:17:42.976430Z",
     "iopub.status.busy": "2024-03-16T05:17:42.975989Z",
     "iopub.status.idle": "2024-03-16T05:17:43.375729Z",
     "shell.execute_reply": "2024-03-16T05:17:43.374955Z",
     "shell.execute_reply.started": "2024-03-16T05:17:42.976401Z"
    },
    "tags": []
   },
   "outputs": [],
   "source": [
    "\n",
    "url = URL.create(\n",
    "    drivername=\"redshift+redshift_connector\",\n",
    "    username=secret_dict['username'],\n",
    "    password=secret_dict[\"password\"],\n",
    "    host=\"core-workgroup.585742243097.us-east-1.redshift-serverless.amazonaws.com\",\n",
    "    port=\"5440\",\n",
    "    database=\"coredb\",\n",
    ")\n",
    "\n",
    "engine = create_engine(url)"
   ]
  },
  {
   "cell_type": "code",
   "execution_count": 6,
   "id": "33ab9a6c-7792-4400-9c98-d2d7402eec27",
   "metadata": {
    "execution": {
     "iopub.execute_input": "2024-03-16T05:17:56.619348Z",
     "iopub.status.busy": "2024-03-16T05:17:56.618427Z",
     "iopub.status.idle": "2024-03-16T05:18:12.038327Z",
     "shell.execute_reply": "2024-03-16T05:18:12.037569Z",
     "shell.execute_reply.started": "2024-03-16T05:17:56.619316Z"
    },
    "tags": []
   },
   "outputs": [],
   "source": [
    "%sql engine  --alias redshift-sqlalchemy"
   ]
  },
  {
   "cell_type": "markdown",
   "id": "1518a6d1-6487-43b7-a564-d4eb0bf378df",
   "metadata": {},
   "source": [
    "---\n",
    "## 3. SQL notebook\n",
    "We will install matplotlib Python package. \n",
    "<div class=\"alert alert-block alert-info\">\n",
    "<b>NOTE :</b> You will need internet access to do this step.</div>"
   ]
  },
  {
   "cell_type": "code",
   "execution_count": 7,
   "id": "34e4291d",
   "metadata": {
    "execution": {
     "iopub.execute_input": "2024-03-16T05:18:36.681848Z",
     "iopub.status.busy": "2024-03-16T05:18:36.681045Z",
     "iopub.status.idle": "2024-03-16T05:18:37.076030Z",
     "shell.execute_reply": "2024-03-16T05:18:37.075261Z",
     "shell.execute_reply.started": "2024-03-16T05:18:36.681815Z"
    },
    "tags": []
   },
   "outputs": [
    {
     "data": {
      "text/html": [
       "<span style=\"None\">Running query in &#x27;redshift-sqlalchemy&#x27;</span>"
      ],
      "text/plain": [
       "Running query in 'redshift-sqlalchemy'"
      ]
     },
     "metadata": {},
     "output_type": "display_data"
    },
    {
     "data": {
      "text/html": [
       "<table>\n",
       "    <thead>\n",
       "        <tr>\n",
       "            <th>schemaname</th>\n",
       "            <th>tablename</th>\n",
       "            <th>column</th>\n",
       "            <th>type</th>\n",
       "            <th>encoding</th>\n",
       "            <th>distkey</th>\n",
       "            <th>sortkey</th>\n",
       "            <th>notnull</th>\n",
       "        </tr>\n",
       "    </thead>\n",
       "    <tbody>\n",
       "        <tr>\n",
       "            <td>pg_catalog</td>\n",
       "            <td>padb_config_harvest</td>\n",
       "            <td>name</td>\n",
       "            <td>character(136)</td>\n",
       "            <td>lzo</td>\n",
       "            <td>False</td>\n",
       "            <td>0</td>\n",
       "            <td>True</td>\n",
       "        </tr>\n",
       "        <tr>\n",
       "            <td>pg_catalog</td>\n",
       "            <td>padb_config_harvest</td>\n",
       "            <td>harvest</td>\n",
       "            <td>integer</td>\n",
       "            <td>az64</td>\n",
       "            <td>False</td>\n",
       "            <td>0</td>\n",
       "            <td>True</td>\n",
       "        </tr>\n",
       "        <tr>\n",
       "            <td>pg_catalog</td>\n",
       "            <td>padb_config_harvest</td>\n",
       "            <td>archive</td>\n",
       "            <td>integer</td>\n",
       "            <td>az64</td>\n",
       "            <td>False</td>\n",
       "            <td>0</td>\n",
       "            <td>True</td>\n",
       "        </tr>\n",
       "        <tr>\n",
       "            <td>pg_catalog</td>\n",
       "            <td>padb_config_harvest</td>\n",
       "            <td>directory</td>\n",
       "            <td>character(500)</td>\n",
       "            <td>lzo</td>\n",
       "            <td>False</td>\n",
       "            <td>0</td>\n",
       "            <td>True</td>\n",
       "        </tr>\n",
       "        <tr>\n",
       "            <td>pg_catalog</td>\n",
       "            <td>pg_aggregate</td>\n",
       "            <td>aggfnoid</td>\n",
       "            <td>regproc</td>\n",
       "            <td>none</td>\n",
       "            <td>False</td>\n",
       "            <td>0</td>\n",
       "            <td>True</td>\n",
       "        </tr>\n",
       "        <tr>\n",
       "            <td>pg_catalog</td>\n",
       "            <td>pg_aggregate</td>\n",
       "            <td>aggtransfn</td>\n",
       "            <td>regproc</td>\n",
       "            <td>none</td>\n",
       "            <td>False</td>\n",
       "            <td>0</td>\n",
       "            <td>True</td>\n",
       "        </tr>\n",
       "        <tr>\n",
       "            <td>pg_catalog</td>\n",
       "            <td>pg_aggregate</td>\n",
       "            <td>aggfinalfn</td>\n",
       "            <td>regproc</td>\n",
       "            <td>none</td>\n",
       "            <td>False</td>\n",
       "            <td>0</td>\n",
       "            <td>True</td>\n",
       "        </tr>\n",
       "        <tr>\n",
       "            <td>pg_catalog</td>\n",
       "            <td>pg_aggregate</td>\n",
       "            <td>aggtranstype</td>\n",
       "            <td>oid</td>\n",
       "            <td>none</td>\n",
       "            <td>False</td>\n",
       "            <td>0</td>\n",
       "            <td>True</td>\n",
       "        </tr>\n",
       "        <tr>\n",
       "            <td>pg_catalog</td>\n",
       "            <td>pg_aggregate</td>\n",
       "            <td>agginitval</td>\n",
       "            <td>text</td>\n",
       "            <td>none</td>\n",
       "            <td>False</td>\n",
       "            <td>0</td>\n",
       "            <td>False</td>\n",
       "        </tr>\n",
       "        <tr>\n",
       "            <td>pg_catalog</td>\n",
       "            <td>pg_am</td>\n",
       "            <td>amname</td>\n",
       "            <td>name</td>\n",
       "            <td>none</td>\n",
       "            <td>False</td>\n",
       "            <td>0</td>\n",
       "            <td>True</td>\n",
       "        </tr>\n",
       "    </tbody>\n",
       "</table>\n",
       "<span style=\"font-style:italic;text-align:center;\">Truncated to <a href=\"https://jupysql.ploomber.io/en/latest/api/configuration.html#displaylimit\">displaylimit</a> of 10.</span>"
      ],
      "text/plain": [
       "+------------+---------------------+--------------+----------------+----------+---------+---------+---------+\n",
       "| schemaname |      tablename      |    column    |      type      | encoding | distkey | sortkey | notnull |\n",
       "+------------+---------------------+--------------+----------------+----------+---------+---------+---------+\n",
       "| pg_catalog | padb_config_harvest |     name     | character(136) |   lzo    |  False  |    0    |   True  |\n",
       "| pg_catalog | padb_config_harvest |   harvest    |    integer     |   az64   |  False  |    0    |   True  |\n",
       "| pg_catalog | padb_config_harvest |   archive    |    integer     |   az64   |  False  |    0    |   True  |\n",
       "| pg_catalog | padb_config_harvest |  directory   | character(500) |   lzo    |  False  |    0    |   True  |\n",
       "| pg_catalog |     pg_aggregate    |   aggfnoid   |    regproc     |   none   |  False  |    0    |   True  |\n",
       "| pg_catalog |     pg_aggregate    |  aggtransfn  |    regproc     |   none   |  False  |    0    |   True  |\n",
       "| pg_catalog |     pg_aggregate    |  aggfinalfn  |    regproc     |   none   |  False  |    0    |   True  |\n",
       "| pg_catalog |     pg_aggregate    | aggtranstype |      oid       |   none   |  False  |    0    |   True  |\n",
       "| pg_catalog |     pg_aggregate    |  agginitval  |      text      |   none   |  False  |    0    |  False  |\n",
       "| pg_catalog |        pg_am        |    amname    |      name      |   none   |  False  |    0    |   True  |\n",
       "+------------+---------------------+--------------+----------------+----------+---------+---------+---------+\n",
       "Truncated to displaylimit of 10."
      ]
     },
     "execution_count": 7,
     "metadata": {},
     "output_type": "execute_result"
    }
   ],
   "source": [
    "%%sql \n",
    "select * from PG_TABLE_DEF"
   ]
  },
  {
   "cell_type": "code",
   "execution_count": 26,
   "id": "5b1868c7-de11-4dc6-a0f6-602f83feb1ba",
   "metadata": {
    "execution": {
     "iopub.execute_input": "2024-03-16T06:03:19.389532Z",
     "iopub.status.busy": "2024-03-16T06:03:19.388728Z",
     "iopub.status.idle": "2024-03-16T06:03:21.319881Z",
     "shell.execute_reply": "2024-03-16T06:03:21.319122Z",
     "shell.execute_reply.started": "2024-03-16T06:03:19.389500Z"
    }
   },
   "outputs": [
    {
     "data": {
      "text/html": [
       "<span style=\"None\">Running query in &#x27;redshift-sqlalchemy&#x27;</span>"
      ],
      "text/plain": [
       "Running query in 'redshift-sqlalchemy'"
      ]
     },
     "metadata": {},
     "output_type": "display_data"
    },
    {
     "data": {
      "text/html": [
       "<table>\n",
       "    <thead>\n",
       "        <tr>\n",
       "        </tr>\n",
       "    </thead>\n",
       "    <tbody>\n",
       "    </tbody>\n",
       "</table>"
      ],
      "text/plain": [
       "++\n",
       "||\n",
       "++\n",
       "++"
      ]
     },
     "execution_count": 26,
     "metadata": {},
     "output_type": "execute_result"
    }
   ],
   "source": [
    "%%sql \n",
    "\n",
    "CREATE TABLE mkt_sls_table AS\n",
    "SELECT 146776932 AS ord_num, 23 AS sales_qty_sld, 23.4 AS wholesale_cost, 45.0 as lst_pr, 43.0 as sell_pr, 2.0 as disnt, 12 as ship_mode,13 as warehouse_id, 23 as item_id, 34 as ctlg_page, 232 as ship_cust_id, 4556 as bill_cust_id\n",
    "UNION ALL SELECT 46776931, 24, 24.4, 46, 44, 1, 14, 15, 24, 35, 222, 4551\n",
    "UNION ALL SELECT 46777394, 42, 43.4, 60, 50, 10, 30, 20, 27, 43, 241, 4565\n",
    "UNION ALL SELECT 46777831, 33, 40.4, 51, 46, 15, 16, 26, 33, 40, 234, 4563\n",
    "UNION ALL SELECT 46779160, 29, 26.4, 50, 61, 8, 31, 15, 36, 40, 242, 4562\n",
    "UNION ALL SELECT 46778595, 43, 28.4, 49, 47, 7, 28, 22, 27, 43, 224, 4555\n",
    "UNION ALL SELECT 46779482, 34, 33.4, 64, 44, 10, 17, 27, 43, 52, 222, 4556\n",
    "UNION ALL SELECT 46779650, 39, 37.4, 51, 62, 13, 31, 25, 31, 52, 224, 4551\n",
    "UNION ALL SELECT 46780524, 33, 40.4, 60, 53, 18, 32, 31, 31, 39, 232, 4563\n",
    "UNION ALL SELECT 46780634, 39, 35.4, 46, 44, 16, 33, 19, 31, 52, 242, 4557\n",
    "UNION ALL SELECT 46781887, 24, 30.4, 54, 62, 13, 18, 29, 24, 52, 223, 4561\n",
    "          "
   ]
  },
  {
   "cell_type": "code",
   "execution_count": 27,
   "id": "619b4e62-c3b5-4e53-a9d7-699d706a26b3",
   "metadata": {
    "execution": {
     "iopub.execute_input": "2024-03-16T06:04:26.019306Z",
     "iopub.status.busy": "2024-03-16T06:04:26.018843Z",
     "iopub.status.idle": "2024-03-16T06:04:26.124368Z",
     "shell.execute_reply": "2024-03-16T06:04:26.123645Z",
     "shell.execute_reply.started": "2024-03-16T06:04:26.019275Z"
    }
   },
   "outputs": [
    {
     "data": {
      "text/html": [
       "<table>\n",
       "    <thead>\n",
       "        <tr>\n",
       "            <th>name</th>\n",
       "            <th>type</th>\n",
       "            <th>nullable</th>\n",
       "            <th>default</th>\n",
       "            <th>autoincrement</th>\n",
       "            <th>comment</th>\n",
       "            <th>info</th>\n",
       "        </tr>\n",
       "    </thead>\n",
       "    <tbody>\n",
       "        <tr>\n",
       "            <td>ord_num</td>\n",
       "            <td>INTEGER</td>\n",
       "            <td>True</td>\n",
       "            <td>None</td>\n",
       "            <td>False</td>\n",
       "            <td>None</td>\n",
       "            <td>{&#x27;encode&#x27;: &#x27;az64&#x27;}</td>\n",
       "        </tr>\n",
       "        <tr>\n",
       "            <td>sales_qty_sld</td>\n",
       "            <td>INTEGER</td>\n",
       "            <td>True</td>\n",
       "            <td>None</td>\n",
       "            <td>False</td>\n",
       "            <td>None</td>\n",
       "            <td>{&#x27;encode&#x27;: &#x27;az64&#x27;}</td>\n",
       "        </tr>\n",
       "        <tr>\n",
       "            <td>wholesale_cost</td>\n",
       "            <td>NUMERIC(3, 1)</td>\n",
       "            <td>True</td>\n",
       "            <td>None</td>\n",
       "            <td>False</td>\n",
       "            <td>None</td>\n",
       "            <td>{&#x27;encode&#x27;: &#x27;az64&#x27;}</td>\n",
       "        </tr>\n",
       "        <tr>\n",
       "            <td>lst_pr</td>\n",
       "            <td>NUMERIC(11, 1)</td>\n",
       "            <td>True</td>\n",
       "            <td>None</td>\n",
       "            <td>False</td>\n",
       "            <td>None</td>\n",
       "            <td>{&#x27;encode&#x27;: &#x27;az64&#x27;}</td>\n",
       "        </tr>\n",
       "        <tr>\n",
       "            <td>sell_pr</td>\n",
       "            <td>NUMERIC(11, 1)</td>\n",
       "            <td>True</td>\n",
       "            <td>None</td>\n",
       "            <td>False</td>\n",
       "            <td>None</td>\n",
       "            <td>{&#x27;encode&#x27;: &#x27;az64&#x27;}</td>\n",
       "        </tr>\n",
       "        <tr>\n",
       "            <td>disnt</td>\n",
       "            <td>NUMERIC(11, 1)</td>\n",
       "            <td>True</td>\n",
       "            <td>None</td>\n",
       "            <td>False</td>\n",
       "            <td>None</td>\n",
       "            <td>{&#x27;encode&#x27;: &#x27;az64&#x27;}</td>\n",
       "        </tr>\n",
       "        <tr>\n",
       "            <td>ship_mode</td>\n",
       "            <td>INTEGER</td>\n",
       "            <td>True</td>\n",
       "            <td>None</td>\n",
       "            <td>False</td>\n",
       "            <td>None</td>\n",
       "            <td>{&#x27;encode&#x27;: &#x27;az64&#x27;}</td>\n",
       "        </tr>\n",
       "        <tr>\n",
       "            <td>warehouse_id</td>\n",
       "            <td>INTEGER</td>\n",
       "            <td>True</td>\n",
       "            <td>None</td>\n",
       "            <td>False</td>\n",
       "            <td>None</td>\n",
       "            <td>{&#x27;encode&#x27;: &#x27;az64&#x27;}</td>\n",
       "        </tr>\n",
       "        <tr>\n",
       "            <td>item_id</td>\n",
       "            <td>INTEGER</td>\n",
       "            <td>True</td>\n",
       "            <td>None</td>\n",
       "            <td>False</td>\n",
       "            <td>None</td>\n",
       "            <td>{&#x27;encode&#x27;: &#x27;az64&#x27;}</td>\n",
       "        </tr>\n",
       "        <tr>\n",
       "            <td>ctlg_page</td>\n",
       "            <td>INTEGER</td>\n",
       "            <td>True</td>\n",
       "            <td>None</td>\n",
       "            <td>False</td>\n",
       "            <td>None</td>\n",
       "            <td>{&#x27;encode&#x27;: &#x27;az64&#x27;}</td>\n",
       "        </tr>\n",
       "        <tr>\n",
       "            <td>ship_cust_id</td>\n",
       "            <td>INTEGER</td>\n",
       "            <td>True</td>\n",
       "            <td>None</td>\n",
       "            <td>False</td>\n",
       "            <td>None</td>\n",
       "            <td>{&#x27;encode&#x27;: &#x27;az64&#x27;}</td>\n",
       "        </tr>\n",
       "        <tr>\n",
       "            <td>bill_cust_id</td>\n",
       "            <td>INTEGER</td>\n",
       "            <td>True</td>\n",
       "            <td>None</td>\n",
       "            <td>False</td>\n",
       "            <td>None</td>\n",
       "            <td>{&#x27;encode&#x27;: &#x27;az64&#x27;}</td>\n",
       "        </tr>\n",
       "    </tbody>\n",
       "</table>"
      ],
      "text/plain": [
       "+----------------+----------------+----------+---------+---------------+---------+--------------------+\n",
       "|      name      |      type      | nullable | default | autoincrement | comment |        info        |\n",
       "+----------------+----------------+----------+---------+---------------+---------+--------------------+\n",
       "|    ord_num     |    INTEGER     |   True   |   None  |     False     |   None  | {'encode': 'az64'} |\n",
       "| sales_qty_sld  |    INTEGER     |   True   |   None  |     False     |   None  | {'encode': 'az64'} |\n",
       "| wholesale_cost | NUMERIC(3, 1)  |   True   |   None  |     False     |   None  | {'encode': 'az64'} |\n",
       "|     lst_pr     | NUMERIC(11, 1) |   True   |   None  |     False     |   None  | {'encode': 'az64'} |\n",
       "|    sell_pr     | NUMERIC(11, 1) |   True   |   None  |     False     |   None  | {'encode': 'az64'} |\n",
       "|     disnt      | NUMERIC(11, 1) |   True   |   None  |     False     |   None  | {'encode': 'az64'} |\n",
       "|   ship_mode    |    INTEGER     |   True   |   None  |     False     |   None  | {'encode': 'az64'} |\n",
       "|  warehouse_id  |    INTEGER     |   True   |   None  |     False     |   None  | {'encode': 'az64'} |\n",
       "|    item_id     |    INTEGER     |   True   |   None  |     False     |   None  | {'encode': 'az64'} |\n",
       "|   ctlg_page    |    INTEGER     |   True   |   None  |     False     |   None  | {'encode': 'az64'} |\n",
       "|  ship_cust_id  |    INTEGER     |   True   |   None  |     False     |   None  | {'encode': 'az64'} |\n",
       "|  bill_cust_id  |    INTEGER     |   True   |   None  |     False     |   None  | {'encode': 'az64'} |\n",
       "+----------------+----------------+----------+---------+---------------+---------+--------------------+"
      ]
     },
     "execution_count": 27,
     "metadata": {},
     "output_type": "execute_result"
    }
   ],
   "source": [
    "%sqlcmd columns --table mkt_sls_table"
   ]
  },
  {
   "cell_type": "code",
   "execution_count": 28,
   "id": "ade4b560-c512-4ed6-8be7-6b6954f339d2",
   "metadata": {
    "execution": {
     "iopub.execute_input": "2024-03-16T06:05:25.737668Z",
     "iopub.status.busy": "2024-03-16T06:05:25.737217Z",
     "iopub.status.idle": "2024-03-16T06:05:25.771676Z",
     "shell.execute_reply": "2024-03-16T06:05:25.770966Z",
     "shell.execute_reply.started": "2024-03-16T06:05:25.737639Z"
    }
   },
   "outputs": [
    {
     "data": {
      "text/html": [
       "<span style=\"None\">Running query in &#x27;redshift-sqlalchemy&#x27;</span>"
      ],
      "text/plain": [
       "Running query in 'redshift-sqlalchemy'"
      ]
     },
     "metadata": {},
     "output_type": "display_data"
    },
    {
     "data": {
      "text/html": [
       "<span style=\"None\">Skipping execution...</span>"
      ],
      "text/plain": [
       "Skipping execution..."
      ]
     },
     "metadata": {},
     "output_type": "display_data"
    }
   ],
   "source": [
    "%%sql --save sales --no-execute\n",
    "select * from mkt_sls_table "
   ]
  },
  {
   "cell_type": "code",
   "execution_count": 29,
   "id": "b0070d6b-2cc6-457e-94a1-e14cb72cb5a7",
   "metadata": {
    "execution": {
     "iopub.execute_input": "2024-03-16T06:06:30.007138Z",
     "iopub.status.busy": "2024-03-16T06:06:30.006674Z",
     "iopub.status.idle": "2024-03-16T06:06:40.559174Z",
     "shell.execute_reply": "2024-03-16T06:06:40.558451Z",
     "shell.execute_reply.started": "2024-03-16T06:06:30.007108Z"
    }
   },
   "outputs": [
    {
     "data": {
      "text/plain": [
       "<AxesSubplot:title={'center':\"'wholesale_cost' from 'sales'\"}, xlabel='wholesale_cost', ylabel='Count'>"
      ]
     },
     "execution_count": 29,
     "metadata": {},
     "output_type": "execute_result"
    },
    {
     "data": {
      "image/png": "[encoded data removed]",
      "text/plain": [
       "<Figure size 640x480 with 1 Axes>"
      ]
     },
     "metadata": {},
     "output_type": "display_data"
    }
   ],
   "source": [
    "%sqlplot histogram --table sales --column wholesale_cost"
   ]
  },
  {
   "cell_type": "markdown",
   "id": "ae2e692d",
   "metadata": {},
   "source": [
    "## Setup NYC Taxi Data Example in Redshift\n",
    "\n",
    "This example is from \n",
    "\n",
    "[Tutorial from JupySQL](https://jupysql.ploomber.io/en/latest/integrations/redshift.html)"
   ]
  },
  {
   "cell_type": "code",
   "execution_count": 8,
   "id": "f2d9d759-693a-44e1-b7f0-277cfa592ec7",
   "metadata": {
    "execution": {
     "iopub.execute_input": "2024-03-16T05:19:17.857292Z",
     "iopub.status.busy": "2024-03-16T05:19:17.856531Z",
     "iopub.status.idle": "2024-03-16T05:19:17.914442Z",
     "shell.execute_reply": "2024-03-16T05:19:17.913462Z",
     "shell.execute_reply.started": "2024-03-16T05:19:17.857262Z"
    },
    "tags": []
   },
   "outputs": [
    {
     "data": {
      "text/html": [
       "<span style=\"None\">Running query in &#x27;redshift-sqlalchemy&#x27;</span>"
      ],
      "text/plain": [
       "Running query in 'redshift-sqlalchemy'"
      ]
     },
     "metadata": {},
     "output_type": "display_data"
    },
    {
     "data": {
      "text/html": [
       "<table>\n",
       "    <thead>\n",
       "        <tr>\n",
       "        </tr>\n",
       "    </thead>\n",
       "    <tbody>\n",
       "    </tbody>\n",
       "</table>"
      ],
      "text/plain": [
       "++\n",
       "||\n",
       "++\n",
       "++"
      ]
     },
     "execution_count": 11,
     "metadata": {},
     "output_type": "execute_result"
    }
   ],
   "source": [
    "%%sql\n",
    "\n",
    "CREATE TABLE taxi  (\n",
    "    VendorID                BIGINT,\n",
    "    tpep_pickup_datetime    TIMESTAMP,\n",
    "    tpep_dropoff_datetime   TIMESTAMP,\n",
    "    passenger_count         DOUBLE PRECISION,\n",
    "    trip_distance           DOUBLE PRECISION,\n",
    "    RatecodeID              DOUBLE PRECISION,\n",
    "    store_and_fwd_flag      VARCHAR(1),\n",
    "    PULocationID            BIGINT,\n",
    "    DOLocationID            BIGINT,\n",
    "    payment_type            BIGINT,\n",
    "    fare_amount             DOUBLE PRECISION,\n",
    "    extra                   DOUBLE PRECISION,\n",
    "    mta_tax                 DOUBLE PRECISION,\n",
    "    tip_amount              DOUBLE PRECISION,\n",
    "    tolls_amount            DOUBLE PRECISION,\n",
    "    improvement_surcharge   DOUBLE PRECISION,\n",
    "    total_amount            DOUBLE PRECISION,\n",
    "    congestion_surcharge    DOUBLE PRECISION,\n",
    "    airport_fee             DOUBLE PRECISION\n",
    ");"
   ]
  },
  {
   "cell_type": "code",
   "execution_count": 15,
   "id": "8f6d967f-b3d2-480f-b2b2-fadefddd55e3",
   "metadata": {
    "execution": {
     "iopub.execute_input": "2024-03-16T05:34:06.805579Z",
     "iopub.status.busy": "2024-03-16T05:34:06.805100Z",
     "iopub.status.idle": "2024-03-16T05:34:16.552875Z",
     "shell.execute_reply": "2024-03-16T05:34:16.552171Z",
     "shell.execute_reply.started": "2024-03-16T05:34:06.805547Z"
    },
    "tags": []
   },
   "outputs": [
    {
     "data": {
      "text/html": [
       "<span style=\"None\">Running query in &#x27;redshift-sqlalchemy&#x27;</span>"
      ],
      "text/plain": [
       "Running query in 'redshift-sqlalchemy'"
      ]
     },
     "metadata": {},
     "output_type": "display_data"
    },
    {
     "data": {
      "text/html": [
       "<table>\n",
       "    <thead>\n",
       "        <tr>\n",
       "        </tr>\n",
       "    </thead>\n",
       "    <tbody>\n",
       "    </tbody>\n",
       "</table>"
      ],
      "text/plain": [
       "++\n",
       "||\n",
       "++\n",
       "++"
      ]
     },
     "execution_count": 15,
     "metadata": {},
     "output_type": "execute_result"
    }
   ],
   "source": [
    "%%sql\n",
    "COPY taxi\n",
    "FROM 's3://core-bronze-ACCOUNT_ID-us-east-1/nyc/yellow_tripdata_2023-01 (3).parquet'\n",
    "IAM_ROLE  'arn:aws:iam::ACCOUNT_ID:role/service-role/AmazonRedshift-CommandsAccessRole-20240316T133053'\n",
    "FORMAT AS PARQUET;"
   ]
  },
  {
   "cell_type": "code",
   "execution_count": 16,
   "id": "5e09e4ea-4ca5-4924-9ca6-2bc3373dcdeb",
   "metadata": {
    "execution": {
     "iopub.execute_input": "2024-03-16T05:35:23.603287Z",
     "iopub.status.busy": "2024-03-16T05:35:23.602509Z",
     "iopub.status.idle": "2024-03-16T05:35:23.829733Z",
     "shell.execute_reply": "2024-03-16T05:35:23.828978Z",
     "shell.execute_reply.started": "2024-03-16T05:35:23.603256Z"
    }
   },
   "outputs": [
    {
     "data": {
      "text/html": [
       "<span style=\"None\">Running query in &#x27;redshift-sqlalchemy&#x27;</span>"
      ],
      "text/plain": [
       "Running query in 'redshift-sqlalchemy'"
      ]
     },
     "metadata": {},
     "output_type": "display_data"
    },
    {
     "data": {
      "text/html": [
       "<table>\n",
       "    <thead>\n",
       "        <tr>\n",
       "            <th>vendorid</th>\n",
       "            <th>tpep_pickup_datetime</th>\n",
       "            <th>tpep_dropoff_datetime</th>\n",
       "            <th>passenger_count</th>\n",
       "            <th>trip_distance</th>\n",
       "            <th>ratecodeid</th>\n",
       "            <th>store_and_fwd_flag</th>\n",
       "            <th>pulocationid</th>\n",
       "            <th>dolocationid</th>\n",
       "            <th>payment_type</th>\n",
       "            <th>fare_amount</th>\n",
       "            <th>extra</th>\n",
       "            <th>mta_tax</th>\n",
       "            <th>tip_amount</th>\n",
       "            <th>tolls_amount</th>\n",
       "            <th>improvement_surcharge</th>\n",
       "            <th>total_amount</th>\n",
       "            <th>congestion_surcharge</th>\n",
       "            <th>airport_fee</th>\n",
       "        </tr>\n",
       "    </thead>\n",
       "    <tbody>\n",
       "        <tr>\n",
       "            <td>2</td>\n",
       "            <td>2023-01-01 02:10:07</td>\n",
       "            <td>2023-01-01 02:15:27</td>\n",
       "            <td>1.0</td>\n",
       "            <td>1.34</td>\n",
       "            <td>1.0</td>\n",
       "            <td>N</td>\n",
       "            <td>162</td>\n",
       "            <td>107</td>\n",
       "            <td>1</td>\n",
       "            <td>7.9</td>\n",
       "            <td>1.0</td>\n",
       "            <td>0.5</td>\n",
       "            <td>3.87</td>\n",
       "            <td>0.0</td>\n",
       "            <td>1.0</td>\n",
       "            <td>16.77</td>\n",
       "            <td>2.5</td>\n",
       "            <td>0.0</td>\n",
       "        </tr>\n",
       "        <tr>\n",
       "            <td>2</td>\n",
       "            <td>2023-01-01 02:25:51</td>\n",
       "            <td>2023-01-01 02:34:46</td>\n",
       "            <td>1.0</td>\n",
       "            <td>2.56</td>\n",
       "            <td>1.0</td>\n",
       "            <td>N</td>\n",
       "            <td>107</td>\n",
       "            <td>140</td>\n",
       "            <td>1</td>\n",
       "            <td>12.8</td>\n",
       "            <td>1.0</td>\n",
       "            <td>0.5</td>\n",
       "            <td>1.78</td>\n",
       "            <td>0.0</td>\n",
       "            <td>1.0</td>\n",
       "            <td>19.58</td>\n",
       "            <td>2.5</td>\n",
       "            <td>0.0</td>\n",
       "        </tr>\n",
       "        <tr>\n",
       "            <td>2</td>\n",
       "            <td>2023-01-01 02:35:23</td>\n",
       "            <td>2023-01-01 02:49:39</td>\n",
       "            <td>1.0</td>\n",
       "            <td>8.01</td>\n",
       "            <td>1.0</td>\n",
       "            <td>N</td>\n",
       "            <td>141</td>\n",
       "            <td>244</td>\n",
       "            <td>1</td>\n",
       "            <td>32.4</td>\n",
       "            <td>1.0</td>\n",
       "            <td>0.5</td>\n",
       "            <td>6.0</td>\n",
       "            <td>0.0</td>\n",
       "            <td>1.0</td>\n",
       "            <td>43.4</td>\n",
       "            <td>2.5</td>\n",
       "            <td>0.0</td>\n",
       "        </tr>\n",
       "        <tr>\n",
       "            <td>2</td>\n",
       "            <td>2023-01-01 02:16:04</td>\n",
       "            <td>2023-01-01 02:26:44</td>\n",
       "            <td>1.0</td>\n",
       "            <td>1.49</td>\n",
       "            <td>1.0</td>\n",
       "            <td>N</td>\n",
       "            <td>90</td>\n",
       "            <td>79</td>\n",
       "            <td>1</td>\n",
       "            <td>11.4</td>\n",
       "            <td>1.0</td>\n",
       "            <td>0.5</td>\n",
       "            <td>0.0</td>\n",
       "            <td>0.0</td>\n",
       "            <td>1.0</td>\n",
       "            <td>16.4</td>\n",
       "            <td>2.5</td>\n",
       "            <td>0.0</td>\n",
       "        </tr>\n",
       "        <tr>\n",
       "            <td>2</td>\n",
       "            <td>2023-01-01 02:44:01</td>\n",
       "            <td>2023-01-01 02:54:11</td>\n",
       "            <td>1.0</td>\n",
       "            <td>3.53</td>\n",
       "            <td>1.0</td>\n",
       "            <td>N</td>\n",
       "            <td>79</td>\n",
       "            <td>262</td>\n",
       "            <td>1</td>\n",
       "            <td>15.6</td>\n",
       "            <td>1.0</td>\n",
       "            <td>0.5</td>\n",
       "            <td>0.0</td>\n",
       "            <td>0.0</td>\n",
       "            <td>1.0</td>\n",
       "            <td>20.6</td>\n",
       "            <td>2.5</td>\n",
       "            <td>0.0</td>\n",
       "        </tr>\n",
       "        <tr>\n",
       "            <td>1</td>\n",
       "            <td>2023-01-01 02:31:54</td>\n",
       "            <td>2023-01-01 02:36:57</td>\n",
       "            <td>2.0</td>\n",
       "            <td>1.2</td>\n",
       "            <td>1.0</td>\n",
       "            <td>N</td>\n",
       "            <td>79</td>\n",
       "            <td>137</td>\n",
       "            <td>1</td>\n",
       "            <td>7.2</td>\n",
       "            <td>3.5</td>\n",
       "            <td>0.5</td>\n",
       "            <td>2.4</td>\n",
       "            <td>0.0</td>\n",
       "            <td>1.0</td>\n",
       "            <td>14.6</td>\n",
       "            <td>2.5</td>\n",
       "            <td>0.0</td>\n",
       "        </tr>\n",
       "        <tr>\n",
       "            <td>1</td>\n",
       "            <td>2023-01-01 02:38:15</td>\n",
       "            <td>2023-01-01 02:50:21</td>\n",
       "            <td>2.0</td>\n",
       "            <td>4.1</td>\n",
       "            <td>1.0</td>\n",
       "            <td>N</td>\n",
       "            <td>137</td>\n",
       "            <td>75</td>\n",
       "            <td>1</td>\n",
       "            <td>17.7</td>\n",
       "            <td>3.5</td>\n",
       "            <td>0.5</td>\n",
       "            <td>3.0</td>\n",
       "            <td>0.0</td>\n",
       "            <td>1.0</td>\n",
       "            <td>25.7</td>\n",
       "            <td>2.5</td>\n",
       "            <td>0.0</td>\n",
       "        </tr>\n",
       "        <tr>\n",
       "            <td>2</td>\n",
       "            <td>2023-01-01 02:07:59</td>\n",
       "            <td>2023-01-01 02:19:19</td>\n",
       "            <td>2.0</td>\n",
       "            <td>2.18</td>\n",
       "            <td>1.0</td>\n",
       "            <td>N</td>\n",
       "            <td>161</td>\n",
       "            <td>249</td>\n",
       "            <td>1</td>\n",
       "            <td>12.8</td>\n",
       "            <td>1.0</td>\n",
       "            <td>0.5</td>\n",
       "            <td>4.45</td>\n",
       "            <td>0.0</td>\n",
       "            <td>1.0</td>\n",
       "            <td>22.25</td>\n",
       "            <td>2.5</td>\n",
       "            <td>0.0</td>\n",
       "        </tr>\n",
       "        <tr>\n",
       "            <td>2</td>\n",
       "            <td>2023-01-01 02:21:12</td>\n",
       "            <td>2023-01-01 02:45:14</td>\n",
       "            <td>3.0</td>\n",
       "            <td>4.84</td>\n",
       "            <td>1.0</td>\n",
       "            <td>N</td>\n",
       "            <td>249</td>\n",
       "            <td>75</td>\n",
       "            <td>1</td>\n",
       "            <td>25.4</td>\n",
       "            <td>1.0</td>\n",
       "            <td>0.5</td>\n",
       "            <td>6.08</td>\n",
       "            <td>0.0</td>\n",
       "            <td>1.0</td>\n",
       "            <td>36.48</td>\n",
       "            <td>2.5</td>\n",
       "            <td>0.0</td>\n",
       "        </tr>\n",
       "        <tr>\n",
       "            <td>2</td>\n",
       "            <td>2023-01-01 02:01:05</td>\n",
       "            <td>2023-01-01 02:04:20</td>\n",
       "            <td>1.0</td>\n",
       "            <td>0.82</td>\n",
       "            <td>1.0</td>\n",
       "            <td>N</td>\n",
       "            <td>141</td>\n",
       "            <td>229</td>\n",
       "            <td>1</td>\n",
       "            <td>6.5</td>\n",
       "            <td>1.0</td>\n",
       "            <td>0.5</td>\n",
       "            <td>1.0</td>\n",
       "            <td>0.0</td>\n",
       "            <td>1.0</td>\n",
       "            <td>12.5</td>\n",
       "            <td>2.5</td>\n",
       "            <td>0.0</td>\n",
       "        </tr>\n",
       "    </tbody>\n",
       "</table>\n",
       "<span style=\"font-style:italic;text-align:center;\">Truncated to <a href=\"https://jupysql.ploomber.io/en/latest/api/configuration.html#displaylimit\">displaylimit</a> of 10.</span>"
      ],
      "text/plain": [
       "+----------+----------------------+-----------------------+-----------------+---------------+------------+--------------------+--------------+--------------+--------------+-------------+-------+---------+------------+--------------+-----------------------+--------------+----------------------+-------------+\n",
       "| vendorid | tpep_pickup_datetime | tpep_dropoff_datetime | passenger_count | trip_distance | ratecodeid | store_and_fwd_flag | pulocationid | dolocationid | payment_type | fare_amount | extra | mta_tax | tip_amount | tolls_amount | improvement_surcharge | total_amount | congestion_surcharge | airport_fee |\n",
       "+----------+----------------------+-----------------------+-----------------+---------------+------------+--------------------+--------------+--------------+--------------+-------------+-------+---------+------------+--------------+-----------------------+--------------+----------------------+-------------+\n",
       "|    2     | 2023-01-01 02:10:07  |  2023-01-01 02:15:27  |       1.0       |      1.34     |    1.0     |         N          |     162      |     107      |      1       |     7.9     |  1.0  |   0.5   |    3.87    |     0.0      |          1.0          |    16.77     |         2.5          |     0.0     |\n",
       "|    2     | 2023-01-01 02:25:51  |  2023-01-01 02:34:46  |       1.0       |      2.56     |    1.0     |         N          |     107      |     140      |      1       |     12.8    |  1.0  |   0.5   |    1.78    |     0.0      |          1.0          |    19.58     |         2.5          |     0.0     |\n",
       "|    2     | 2023-01-01 02:35:23  |  2023-01-01 02:49:39  |       1.0       |      8.01     |    1.0     |         N          |     141      |     244      |      1       |     32.4    |  1.0  |   0.5   |    6.0     |     0.0      |          1.0          |     43.4     |         2.5          |     0.0     |\n",
       "|    2     | 2023-01-01 02:16:04  |  2023-01-01 02:26:44  |       1.0       |      1.49     |    1.0     |         N          |      90      |      79      |      1       |     11.4    |  1.0  |   0.5   |    0.0     |     0.0      |          1.0          |     16.4     |         2.5          |     0.0     |\n",
       "|    2     | 2023-01-01 02:44:01  |  2023-01-01 02:54:11  |       1.0       |      3.53     |    1.0     |         N          |      79      |     262      |      1       |     15.6    |  1.0  |   0.5   |    0.0     |     0.0      |          1.0          |     20.6     |         2.5          |     0.0     |\n",
       "|    1     | 2023-01-01 02:31:54  |  2023-01-01 02:36:57  |       2.0       |      1.2      |    1.0     |         N          |      79      |     137      |      1       |     7.2     |  3.5  |   0.5   |    2.4     |     0.0      |          1.0          |     14.6     |         2.5          |     0.0     |\n",
       "|    1     | 2023-01-01 02:38:15  |  2023-01-01 02:50:21  |       2.0       |      4.1      |    1.0     |         N          |     137      |      75      |      1       |     17.7    |  3.5  |   0.5   |    3.0     |     0.0      |          1.0          |     25.7     |         2.5          |     0.0     |\n",
       "|    2     | 2023-01-01 02:07:59  |  2023-01-01 02:19:19  |       2.0       |      2.18     |    1.0     |         N          |     161      |     249      |      1       |     12.8    |  1.0  |   0.5   |    4.45    |     0.0      |          1.0          |    22.25     |         2.5          |     0.0     |\n",
       "|    2     | 2023-01-01 02:21:12  |  2023-01-01 02:45:14  |       3.0       |      4.84     |    1.0     |         N          |     249      |      75      |      1       |     25.4    |  1.0  |   0.5   |    6.08    |     0.0      |          1.0          |    36.48     |         2.5          |     0.0     |\n",
       "|    2     | 2023-01-01 02:01:05  |  2023-01-01 02:04:20  |       1.0       |      0.82     |    1.0     |         N          |     141      |     229      |      1       |     6.5     |  1.0  |   0.5   |    1.0     |     0.0      |          1.0          |     12.5     |         2.5          |     0.0     |\n",
       "+----------+----------------------+-----------------------+-----------------+---------------+------------+--------------------+--------------+--------------+--------------+-------------+-------+---------+------------+--------------+-----------------------+--------------+----------------------+-------------+\n",
       "Truncated to displaylimit of 10."
      ]
     },
     "execution_count": 16,
     "metadata": {},
     "output_type": "execute_result"
    }
   ],
   "source": [
    "%%sql \n",
    "select * from taxi limit 10"
   ]
  },
  {
   "cell_type": "markdown",
   "id": "26ea70ae-4886-463e-ade6-22843ccd138f",
   "metadata": {},
   "source": [
    "## Download NYC Yellow Taxi Data in Pa\n",
    "https://www.nyc.gov/site/tlc/about/tlc-trip-record-data.page "
   ]
  },
  {
   "cell_type": "code",
   "execution_count": 17,
   "id": "27078933-fef6-435b-9b95-ade47dc2f253",
   "metadata": {
    "execution": {
     "iopub.execute_input": "2024-03-16T05:38:24.022601Z",
     "iopub.status.busy": "2024-03-16T05:38:24.022149Z",
     "iopub.status.idle": "2024-03-16T05:38:24.083868Z",
     "shell.execute_reply": "2024-03-16T05:38:24.083193Z",
     "shell.execute_reply.started": "2024-03-16T05:38:24.022572Z"
    }
   },
   "outputs": [
    {
     "data": {
      "text/html": [
       "<table>\n",
       "    <thead>\n",
       "        <tr>\n",
       "            <th>Name</th>\n",
       "        </tr>\n",
       "    </thead>\n",
       "    <tbody>\n",
       "        <tr>\n",
       "            <td>taxi</td>\n",
       "        </tr>\n",
       "    </tbody>\n",
       "</table>"
      ],
      "text/plain": [
       "+------+\n",
       "| Name |\n",
       "+------+\n",
       "| taxi |\n",
       "+------+"
      ]
     },
     "execution_count": 17,
     "metadata": {},
     "output_type": "execute_result"
    }
   ],
   "source": [
    "%sqlcmd tables"
   ]
  },
  {
   "cell_type": "code",
   "execution_count": 18,
   "id": "b7971104-2552-4d7a-bc40-3c2405f027f4",
   "metadata": {
    "execution": {
     "iopub.execute_input": "2024-03-16T05:38:35.213585Z",
     "iopub.status.busy": "2024-03-16T05:38:35.212801Z",
     "iopub.status.idle": "2024-03-16T05:38:35.334875Z",
     "shell.execute_reply": "2024-03-16T05:38:35.334196Z",
     "shell.execute_reply.started": "2024-03-16T05:38:35.213554Z"
    }
   },
   "outputs": [
    {
     "data": {
      "text/html": [
       "<table>\n",
       "    <thead>\n",
       "        <tr>\n",
       "            <th>name</th>\n",
       "            <th>type</th>\n",
       "            <th>nullable</th>\n",
       "            <th>default</th>\n",
       "            <th>autoincrement</th>\n",
       "            <th>comment</th>\n",
       "            <th>info</th>\n",
       "        </tr>\n",
       "    </thead>\n",
       "    <tbody>\n",
       "        <tr>\n",
       "            <td>vendorid</td>\n",
       "            <td>BIGINT</td>\n",
       "            <td>True</td>\n",
       "            <td>None</td>\n",
       "            <td>False</td>\n",
       "            <td>None</td>\n",
       "            <td>{&#x27;encode&#x27;: &#x27;az64&#x27;}</td>\n",
       "        </tr>\n",
       "        <tr>\n",
       "            <td>tpep_pickup_datetime</td>\n",
       "            <td>TIMESTAMP</td>\n",
       "            <td>True</td>\n",
       "            <td>None</td>\n",
       "            <td>False</td>\n",
       "            <td>None</td>\n",
       "            <td>{&#x27;encode&#x27;: &#x27;az64&#x27;}</td>\n",
       "        </tr>\n",
       "        <tr>\n",
       "            <td>tpep_dropoff_datetime</td>\n",
       "            <td>TIMESTAMP</td>\n",
       "            <td>True</td>\n",
       "            <td>None</td>\n",
       "            <td>False</td>\n",
       "            <td>None</td>\n",
       "            <td>{&#x27;encode&#x27;: &#x27;az64&#x27;}</td>\n",
       "        </tr>\n",
       "        <tr>\n",
       "            <td>passenger_count</td>\n",
       "            <td>DOUBLE_PRECISION</td>\n",
       "            <td>True</td>\n",
       "            <td>None</td>\n",
       "            <td>False</td>\n",
       "            <td>None</td>\n",
       "            <td>{}</td>\n",
       "        </tr>\n",
       "        <tr>\n",
       "            <td>trip_distance</td>\n",
       "            <td>DOUBLE_PRECISION</td>\n",
       "            <td>True</td>\n",
       "            <td>None</td>\n",
       "            <td>False</td>\n",
       "            <td>None</td>\n",
       "            <td>{}</td>\n",
       "        </tr>\n",
       "        <tr>\n",
       "            <td>ratecodeid</td>\n",
       "            <td>DOUBLE_PRECISION</td>\n",
       "            <td>True</td>\n",
       "            <td>None</td>\n",
       "            <td>False</td>\n",
       "            <td>None</td>\n",
       "            <td>{}</td>\n",
       "        </tr>\n",
       "        <tr>\n",
       "            <td>store_and_fwd_flag</td>\n",
       "            <td>VARCHAR(1)</td>\n",
       "            <td>True</td>\n",
       "            <td>None</td>\n",
       "            <td>False</td>\n",
       "            <td>None</td>\n",
       "            <td>{&#x27;encode&#x27;: &#x27;lzo&#x27;}</td>\n",
       "        </tr>\n",
       "        <tr>\n",
       "            <td>pulocationid</td>\n",
       "            <td>BIGINT</td>\n",
       "            <td>True</td>\n",
       "            <td>None</td>\n",
       "            <td>False</td>\n",
       "            <td>None</td>\n",
       "            <td>{&#x27;encode&#x27;: &#x27;az64&#x27;}</td>\n",
       "        </tr>\n",
       "        <tr>\n",
       "            <td>dolocationid</td>\n",
       "            <td>BIGINT</td>\n",
       "            <td>True</td>\n",
       "            <td>None</td>\n",
       "            <td>False</td>\n",
       "            <td>None</td>\n",
       "            <td>{&#x27;encode&#x27;: &#x27;az64&#x27;}</td>\n",
       "        </tr>\n",
       "        <tr>\n",
       "            <td>payment_type</td>\n",
       "            <td>BIGINT</td>\n",
       "            <td>True</td>\n",
       "            <td>None</td>\n",
       "            <td>False</td>\n",
       "            <td>None</td>\n",
       "            <td>{&#x27;encode&#x27;: &#x27;az64&#x27;}</td>\n",
       "        </tr>\n",
       "        <tr>\n",
       "            <td>fare_amount</td>\n",
       "            <td>DOUBLE_PRECISION</td>\n",
       "            <td>True</td>\n",
       "            <td>None</td>\n",
       "            <td>False</td>\n",
       "            <td>None</td>\n",
       "            <td>{}</td>\n",
       "        </tr>\n",
       "        <tr>\n",
       "            <td>extra</td>\n",
       "            <td>DOUBLE_PRECISION</td>\n",
       "            <td>True</td>\n",
       "            <td>None</td>\n",
       "            <td>False</td>\n",
       "            <td>None</td>\n",
       "            <td>{}</td>\n",
       "        </tr>\n",
       "        <tr>\n",
       "            <td>mta_tax</td>\n",
       "            <td>DOUBLE_PRECISION</td>\n",
       "            <td>True</td>\n",
       "            <td>None</td>\n",
       "            <td>False</td>\n",
       "            <td>None</td>\n",
       "            <td>{}</td>\n",
       "        </tr>\n",
       "        <tr>\n",
       "            <td>tip_amount</td>\n",
       "            <td>DOUBLE_PRECISION</td>\n",
       "            <td>True</td>\n",
       "            <td>None</td>\n",
       "            <td>False</td>\n",
       "            <td>None</td>\n",
       "            <td>{}</td>\n",
       "        </tr>\n",
       "        <tr>\n",
       "            <td>tolls_amount</td>\n",
       "            <td>DOUBLE_PRECISION</td>\n",
       "            <td>True</td>\n",
       "            <td>None</td>\n",
       "            <td>False</td>\n",
       "            <td>None</td>\n",
       "            <td>{}</td>\n",
       "        </tr>\n",
       "        <tr>\n",
       "            <td>improvement_surcharge</td>\n",
       "            <td>DOUBLE_PRECISION</td>\n",
       "            <td>True</td>\n",
       "            <td>None</td>\n",
       "            <td>False</td>\n",
       "            <td>None</td>\n",
       "            <td>{}</td>\n",
       "        </tr>\n",
       "        <tr>\n",
       "            <td>total_amount</td>\n",
       "            <td>DOUBLE_PRECISION</td>\n",
       "            <td>True</td>\n",
       "            <td>None</td>\n",
       "            <td>False</td>\n",
       "            <td>None</td>\n",
       "            <td>{}</td>\n",
       "        </tr>\n",
       "        <tr>\n",
       "            <td>congestion_surcharge</td>\n",
       "            <td>DOUBLE_PRECISION</td>\n",
       "            <td>True</td>\n",
       "            <td>None</td>\n",
       "            <td>False</td>\n",
       "            <td>None</td>\n",
       "            <td>{}</td>\n",
       "        </tr>\n",
       "        <tr>\n",
       "            <td>airport_fee</td>\n",
       "            <td>DOUBLE_PRECISION</td>\n",
       "            <td>True</td>\n",
       "            <td>None</td>\n",
       "            <td>False</td>\n",
       "            <td>None</td>\n",
       "            <td>{}</td>\n",
       "        </tr>\n",
       "    </tbody>\n",
       "</table>"
      ],
      "text/plain": [
       "+-----------------------+------------------+----------+---------+---------------+---------+--------------------+\n",
       "|          name         |       type       | nullable | default | autoincrement | comment |        info        |\n",
       "+-----------------------+------------------+----------+---------+---------------+---------+--------------------+\n",
       "|        vendorid       |      BIGINT      |   True   |   None  |     False     |   None  | {'encode': 'az64'} |\n",
       "|  tpep_pickup_datetime |    TIMESTAMP     |   True   |   None  |     False     |   None  | {'encode': 'az64'} |\n",
       "| tpep_dropoff_datetime |    TIMESTAMP     |   True   |   None  |     False     |   None  | {'encode': 'az64'} |\n",
       "|    passenger_count    | DOUBLE_PRECISION |   True   |   None  |     False     |   None  |         {}         |\n",
       "|     trip_distance     | DOUBLE_PRECISION |   True   |   None  |     False     |   None  |         {}         |\n",
       "|       ratecodeid      | DOUBLE_PRECISION |   True   |   None  |     False     |   None  |         {}         |\n",
       "|   store_and_fwd_flag  |    VARCHAR(1)    |   True   |   None  |     False     |   None  | {'encode': 'lzo'}  |\n",
       "|      pulocationid     |      BIGINT      |   True   |   None  |     False     |   None  | {'encode': 'az64'} |\n",
       "|      dolocationid     |      BIGINT      |   True   |   None  |     False     |   None  | {'encode': 'az64'} |\n",
       "|      payment_type     |      BIGINT      |   True   |   None  |     False     |   None  | {'encode': 'az64'} |\n",
       "|      fare_amount      | DOUBLE_PRECISION |   True   |   None  |     False     |   None  |         {}         |\n",
       "|         extra         | DOUBLE_PRECISION |   True   |   None  |     False     |   None  |         {}         |\n",
       "|        mta_tax        | DOUBLE_PRECISION |   True   |   None  |     False     |   None  |         {}         |\n",
       "|       tip_amount      | DOUBLE_PRECISION |   True   |   None  |     False     |   None  |         {}         |\n",
       "|      tolls_amount     | DOUBLE_PRECISION |   True   |   None  |     False     |   None  |         {}         |\n",
       "| improvement_surcharge | DOUBLE_PRECISION |   True   |   None  |     False     |   None  |         {}         |\n",
       "|      total_amount     | DOUBLE_PRECISION |   True   |   None  |     False     |   None  |         {}         |\n",
       "|  congestion_surcharge | DOUBLE_PRECISION |   True   |   None  |     False     |   None  |         {}         |\n",
       "|      airport_fee      | DOUBLE_PRECISION |   True   |   None  |     False     |   None  |         {}         |\n",
       "+-----------------------+------------------+----------+---------+---------------+---------+--------------------+"
      ]
     },
     "execution_count": 18,
     "metadata": {},
     "output_type": "execute_result"
    }
   ],
   "source": [
    "%sqlcmd columns --table taxi"
   ]
  },
  {
   "cell_type": "code",
   "execution_count": 19,
   "id": "aac0358f-804b-4c10-b0a0-b9588ed75f97",
   "metadata": {
    "execution": {
     "iopub.execute_input": "2024-03-16T05:39:32.870530Z",
     "iopub.status.busy": "2024-03-16T05:39:32.869754Z",
     "iopub.status.idle": "2024-03-16T05:39:38.427022Z",
     "shell.execute_reply": "2024-03-16T05:39:38.426329Z",
     "shell.execute_reply.started": "2024-03-16T05:39:32.870499Z"
    }
   },
   "outputs": [
    {
     "data": {
      "text/html": [
       "<span style=\"None\">Running query in &#x27;redshift-sqlalchemy&#x27;</span>"
      ],
      "text/plain": [
       "Running query in 'redshift-sqlalchemy'"
      ]
     },
     "metadata": {},
     "output_type": "display_data"
    },
    {
     "data": {
      "text/html": [
       "<table>\n",
       "    <thead>\n",
       "        <tr>\n",
       "            <th>percentile_disc</th>\n",
       "        </tr>\n",
       "    </thead>\n",
       "    <tbody>\n",
       "        <tr>\n",
       "            <td>20.03</td>\n",
       "        </tr>\n",
       "    </tbody>\n",
       "</table>"
      ],
      "text/plain": [
       "+-----------------+\n",
       "| percentile_disc |\n",
       "+-----------------+\n",
       "|      20.03      |\n",
       "+-----------------+"
      ]
     },
     "execution_count": 19,
     "metadata": {},
     "output_type": "execute_result"
    }
   ],
   "source": [
    "%%sql\n",
    "SELECT \n",
    "    APPROXIMATE PERCENTILE_DISC(0.99) WITHIN GROUP (ORDER BY trip_distance)\n",
    "FROM \n",
    "    taxi;"
   ]
  },
  {
   "cell_type": "code",
   "execution_count": 20,
   "id": "df323923-c213-419c-9ec1-3804487c987b",
   "metadata": {
    "execution": {
     "iopub.execute_input": "2024-03-16T05:40:16.695705Z",
     "iopub.status.busy": "2024-03-16T05:40:16.694935Z",
     "iopub.status.idle": "2024-03-16T05:40:16.727873Z",
     "shell.execute_reply": "2024-03-16T05:40:16.727165Z",
     "shell.execute_reply.started": "2024-03-16T05:40:16.695675Z"
    }
   },
   "outputs": [
    {
     "data": {
      "text/html": [
       "<span style=\"None\">Running query in &#x27;redshift-sqlalchemy&#x27;</span>"
      ],
      "text/plain": [
       "Running query in 'redshift-sqlalchemy'"
      ]
     },
     "metadata": {},
     "output_type": "display_data"
    },
    {
     "data": {
      "text/html": [
       "<span style=\"None\">Skipping execution...</span>"
      ],
      "text/plain": [
       "Skipping execution..."
      ]
     },
     "metadata": {},
     "output_type": "display_data"
    }
   ],
   "source": [
    "%%sql --save taxi_no_outliers --no-execute\n",
    "select * from taxi  where trip_distance < 20"
   ]
  },
  {
   "cell_type": "code",
   "execution_count": 21,
   "id": "4049d866-df6d-4cf0-962e-d3fe2d4c44b7",
   "metadata": {
    "execution": {
     "iopub.execute_input": "2024-03-16T05:40:43.981891Z",
     "iopub.status.busy": "2024-03-16T05:40:43.981405Z",
     "iopub.status.idle": "2024-03-16T05:40:44.704560Z",
     "shell.execute_reply": "2024-03-16T05:40:44.703828Z",
     "shell.execute_reply.started": "2024-03-16T05:40:43.981858Z"
    }
   },
   "outputs": [
    {
     "data": {
      "text/plain": [
       "<AxesSubplot:title={'center':\"'trip_distance' from 'taxi_no_outliers'\"}, xlabel='trip_distance', ylabel='Count'>"
      ]
     },
     "execution_count": 21,
     "metadata": {},
     "output_type": "execute_result"
    },
    {
     "data": {
      "image/png": "[encoded data removed]",
      "text/plain": [
       "<Figure size 640x480 with 1 Axes>"
      ]
     },
     "metadata": {},
     "output_type": "display_data"
    }
   ],
   "source": [
    "%sqlplot histogram --table taxi_no_outliers --column trip_distance"
   ]
  },
  {
   "cell_type": "code",
   "execution_count": 22,
   "id": "5cdcc666-9822-4c64-9019-63a737e4f76f",
   "metadata": {
    "execution": {
     "iopub.execute_input": "2024-03-16T05:40:57.492637Z",
     "iopub.status.busy": "2024-03-16T05:40:57.491875Z",
     "iopub.status.idle": "2024-03-16T05:41:02.187425Z",
     "shell.execute_reply": "2024-03-16T05:41:02.186623Z",
     "shell.execute_reply.started": "2024-03-16T05:40:57.492607Z"
    }
   },
   "outputs": [
    {
     "data": {
      "text/plain": [
       "<AxesSubplot:title={'center':\"'trip_distance' from 'taxi_no_outliers'\"}, ylabel='trip_distance'>"
      ]
     },
     "execution_count": 22,
     "metadata": {},
     "output_type": "execute_result"
    },
    {
     "data": {
      "image/png": "[encoded data removed]",
      "text/plain": [
       "<Figure size 640x480 with 1 Axes>"
      ]
     },
     "metadata": {},
     "output_type": "display_data"
    }
   ],
   "source": [
    "%sqlplot boxplot --table taxi_no_outliers --column trip_distance"
   ]
  },
  {
   "cell_type": "code",
   "execution_count": 23,
   "id": "9cbf087f-db77-4f88-8cd2-3b55431448c4",
   "metadata": {
    "execution": {
     "iopub.execute_input": "2024-03-16T05:41:14.591440Z",
     "iopub.status.busy": "2024-03-16T05:41:14.590671Z",
     "iopub.status.idle": "2024-03-16T05:41:19.054996Z",
     "shell.execute_reply": "2024-03-16T05:41:19.054239Z",
     "shell.execute_reply.started": "2024-03-16T05:41:14.591409Z"
    }
   },
   "outputs": [
    {
     "data": {
      "text/html": [
       "<span style=\"None\">Removing NULLs, if there exists any from passenger_count</span>"
      ],
      "text/plain": [
       "Removing NULLs, if there exists any from passenger_count"
      ]
     },
     "metadata": {},
     "output_type": "display_data"
    },
    {
     "data": {
      "text/plain": [
       "<AxesSubplot:title={'center':'taxi'}, xlabel='passenger_count', ylabel='Count'>"
      ]
     },
     "execution_count": 23,
     "metadata": {},
     "output_type": "execute_result"
    },
    {
     "data": {
      "image/png": "[encoded data removed]",
      "text/plain": [
       "<Figure size 640x480 with 1 Axes>"
      ]
     },
     "metadata": {},
     "output_type": "display_data"
    }
   ],
   "source": [
    "%sqlplot bar --table taxi --column passenger_count"
   ]
  },
  {
   "cell_type": "code",
   "execution_count": 24,
   "id": "88c39519-8012-46b3-becf-5582f6d8edc4",
   "metadata": {
    "execution": {
     "iopub.execute_input": "2024-03-16T05:42:15.712155Z",
     "iopub.status.busy": "2024-03-16T05:42:15.711713Z",
     "iopub.status.idle": "2024-03-16T05:42:15.718788Z",
     "shell.execute_reply": "2024-03-16T05:42:15.718045Z",
     "shell.execute_reply.started": "2024-03-16T05:42:15.712126Z"
    }
   },
   "outputs": [],
   "source": [
    "from sql.ggplot import ggplot, aes, geom_histogram"
   ]
  },
  {
   "cell_type": "code",
   "execution_count": 25,
   "id": "dbd4a593-00be-45b5-b541-91d92a924d98",
   "metadata": {
    "execution": {
     "iopub.execute_input": "2024-03-16T05:42:24.336788Z",
     "iopub.status.busy": "2024-03-16T05:42:24.336031Z",
     "iopub.status.idle": "2024-03-16T05:42:29.892120Z",
     "shell.execute_reply": "2024-03-16T05:42:29.891381Z",
     "shell.execute_reply.started": "2024-03-16T05:42:24.336756Z"
    }
   },
   "outputs": [
    {
     "data": {
      "text/plain": [
       "<sql.ggplot.ggplot.ggplot at 0xffff9887ced0>"
      ]
     },
     "execution_count": 25,
     "metadata": {},
     "output_type": "execute_result"
    },
    {
     "data": {
      "image/png": "[encoded data removed]",
      "text/plain": [
       "<Figure size 640x480 with 1 Axes>"
      ]
     },
     "metadata": {},
     "output_type": "display_data"
    }
   ],
   "source": [
    "(\n",
    "    ggplot(\"taxi_no_outliers\", aes(x=\"trip_distance\"), with_=\"taxi_no_outliers\")\n",
    "    + geom_histogram(bins=30, fill=\"vendorid\")\n",
    ")"
   ]
  },
  {
   "cell_type": "code",
   "execution_count": null,
   "id": "df410996-d91e-442e-9416-87f6b4464699",
   "metadata": {},
   "outputs": [],
   "source": []
  }
 ],
 "metadata": {
  "kernelspec": {
   "display_name": "Python 3",
   "language": "python",
   "name": "python3_toledo"
  },
  "language_info": {
   "codemirror_mode": {
    "name": "ipython",
    "version": 3
   },
   "file_extension": ".py",
   "mimetype": "text/x-python",
   "name": "python",
   "nbconvert_exporter": "python",
   "pygments_lexer": "ipython3",
   "version": "3.7.16"
  }
 },
 "nbformat": 4,
 "nbformat_minor": 5
}
