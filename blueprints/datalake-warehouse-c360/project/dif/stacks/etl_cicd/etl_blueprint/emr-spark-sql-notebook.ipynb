{
 "cells": [
  {
   "cell_type": "markdown",
   "id": "1f7439a3",
   "metadata": {
    "tags": []
   },
   "source": [
    "# EMR Spark / SQL Notebook "
   ]
  },
  {
   "cell_type": "markdown",
   "id": "e283e844",
   "metadata": {
    "tags": []
   },
   "source": [
    "***\n",
    "\n",
    "#### Steps to connect to EMR\n",
    "<ol>\n",
    "    <li> Select the EMR cluster/serverless/EMR on EKS on left panel of EMR Studio jupyterlab workspace </li>\n",
    "    <li> Select the PySpark kernel on top right </li>\n",
    "    <li> Wait for Kernel initializing message to finish (2 minute)</li>\n",
    "    <li> Query using %sql or %%sql (first query may take few minute to warm up in case of serverless)</li>\n",
    "    <li> Visualize your data using pandas </li>\n",
    "</ol>\n",
    "\n",
    "<div class=\"alert alert-block alert-info\">\n",
    "<b>NOTE :</b> \n",
    "The notebook connects to the project's Glue Catalog. With EMR serverless, there may be initial warmup time while application startsup and kernel is initializing. Once initialized you would be able to run the queries or pyspark scripts \n",
    "</div>\n"
   ]
  },
  {
   "cell_type": "code",
   "execution_count": 1,
   "id": "a9293df3-5f0d-44d4-9e1e-f0e8cb53b108",
   "metadata": {
    "execution": {
     "iopub.execute_input": "2024-03-16T08:24:15.180400Z",
     "iopub.status.busy": "2024-03-16T08:24:15.179951Z",
     "iopub.status.idle": "2024-03-16T08:26:24.714413Z",
     "shell.execute_reply": "2024-03-16T08:26:24.713715Z",
     "shell.execute_reply.started": "2024-03-16T08:24:15.180367Z"
    },
    "tags": []
   },
   "outputs": [
    {
     "name": "stdout",
     "output_type": "stream",
     "text": [
      "Starting Spark application\n"
     ]
    },
    {
     "data": {
      "text/html": [
       "<table>\n",
       "    <tr><th>ID</th><th>Kind</th><th>State</th><th>Spark UI</th><th>Driver log</th><th>User</th><th>Current session?</th></tr><tr><td>3</td><td>pyspark</td><td>idle</td><td><a target=\"_blank\" href=\"https://spark-live-ui.emr-serverless.amazonaws.com\" class=\"emr-proxy-link\" emr-runtime=\"emr-serverless\" emr-resource=\"00fhqvomh9cq590a\" application-id=\"00fhqmr206k14q09\">Link</a></td><td></td><td>None</td><td>✔</td></tr></table>"
      ],
      "text/plain": [
       "<IPython.core.display.HTML object>"
      ]
     },
     "metadata": {},
     "output_type": "display_data"
    },
    {
     "data": {
      "application/vnd.jupyter.widget-view+json": {
       "model_id": "",
       "version_major": 2,
       "version_minor": 0
      },
      "text/plain": [
       "FloatProgress(value=0.0, bar_style='info', description='Progress:', layout=Layout(height='25px', width='50%'),…"
      ]
     },
     "metadata": {},
     "output_type": "display_data"
    },
    {
     "name": "stdout",
     "output_type": "stream",
     "text": [
      "SparkSession available as 'spark'.\n"
     ]
    },
    {
     "data": {
      "application/vnd.jupyter.widget-view+json": {
       "model_id": "",
       "version_major": 2,
       "version_minor": 0
      },
      "text/plain": [
       "FloatProgress(value=0.0, bar_style='info', description='Progress:', layout=Layout(height='25px', width='50%'),…"
      ]
     },
     "metadata": {},
     "output_type": "display_data"
    },
    {
     "data": {
      "text/html": [
       "<style>.jp-OutputArea-child .jupyter-widgets.jp-OutputArea-output { overflow: auto; }</style>"
      ],
      "text/plain": [
       "<IPython.core.display.HTML object>"
      ]
     },
     "metadata": {},
     "output_type": "display_data"
    },
    {
     "data": {
      "application/vnd.jupyter.widget-view+json": {
       "model_id": "88207a607e0a46118fa4c87d3288959a",
       "version_major": 2,
       "version_minor": 0
      },
      "text/plain": [
       "VBox(children=(HBox(children=(HTML(value='Type:'), Button(description='Table', layout=Layout(width='70px'), st…"
      ]
     },
     "metadata": {},
     "output_type": "display_data"
    },
    {
     "data": {
      "application/vnd.jupyter.widget-view+json": {
       "model_id": "3e46fdab67ae461fa2367292461e565e",
       "version_major": 2,
       "version_minor": 0
      },
      "text/plain": [
       "Output()"
      ]
     },
     "metadata": {},
     "output_type": "display_data"
    }
   ],
   "source": [
    "%%sql \n",
    "\n",
    "show databases "
   ]
  },
  {
   "cell_type": "markdown",
   "id": "1518a6d1-6487-43b7-a564-d4eb0bf378df",
   "metadata": {
    "tags": []
   },
   "source": [
    "---\n",
    "## 3. SQL notebook\n",
    " \n",
    "<div class=\"alert alert-block alert-info\">\n",
    "<b>NOTE :</b>In case of EMR Serverless give some initial time to warm up (5 min)\n",
    "</div>\n",
    "\n",
    "Download the NYC dataset from https://d37ci6vzurychx.cloudfront.net/trip-data/yellow_tripdata_2023-01.parquet\n",
    "Upload it into your S3 bucket. E.g. core-bronze-accountid-region/nyc\n",
    "\n",
    "Update the S3 location in the below SQL"
   ]
  },
  {
   "cell_type": "code",
   "execution_count": 6,
   "id": "5b1868c7-de11-4dc6-a0f6-602f83feb1ba",
   "metadata": {
    "execution": {
     "iopub.execute_input": "2024-03-16T08:33:16.556821Z",
     "iopub.status.busy": "2024-03-16T08:33:16.556048Z",
     "iopub.status.idle": "2024-03-16T08:33:17.737255Z",
     "shell.execute_reply": "2024-03-16T08:33:17.736539Z",
     "shell.execute_reply.started": "2024-03-16T08:33:16.556790Z"
    },
    "tags": []
   },
   "outputs": [
    {
     "data": {
      "application/vnd.jupyter.widget-view+json": {
       "model_id": "",
       "version_major": 2,
       "version_minor": 0
      },
      "text/plain": [
       "FloatProgress(value=0.0, bar_style='info', description='Progress:', layout=Layout(height='25px', width='50%'),…"
      ]
     },
     "metadata": {},
     "output_type": "display_data"
    },
    {
     "data": {
      "text/html": [
       "<style>.jp-OutputArea-child .jupyter-widgets.jp-OutputArea-output { overflow: auto; }</style>"
      ],
      "text/plain": [
       "<IPython.core.display.HTML object>"
      ]
     },
     "metadata": {},
     "output_type": "display_data"
    },
    {
     "data": {
      "application/vnd.jupyter.widget-view+json": {
       "model_id": "3c3abbed4961430096204dd1e70ae93a",
       "version_major": 2,
       "version_minor": 0
      },
      "text/plain": [
       "VBox(children=(HBox(), EncodingWidget(children=(VBox(children=(HTML(value='Encoding:'), Dropdown(description='…"
      ]
     },
     "metadata": {},
     "output_type": "display_data"
    },
    {
     "data": {
      "application/vnd.jupyter.widget-view+json": {
       "model_id": "bc5bfaac39bf445ebd518797dd857faf",
       "version_major": 2,
       "version_minor": 0
      },
      "text/plain": [
       "Output()"
      ]
     },
     "metadata": {},
     "output_type": "display_data"
    }
   ],
   "source": [
    "%%sql \n",
    "\n",
    "CREATE TABLE if not exists iceberg.coregold.mkt_sls_table AS\n",
    "SELECT 146776932 AS ord_num, 23 AS sales_qty_sld, 23.4 AS wholesale_cost, 45.0 as lst_pr, 43.0 as sell_pr, 2.0 as disnt, 12 as ship_mode,13 as warehouse_id, 23 as item_id, 34 as ctlg_page, 232 as ship_cust_id, 4556 as bill_cust_id\n",
    "UNION ALL SELECT 46776931, 24, 24.4, 46, 44, 1, 14, 15, 24, 35, 222, 4551\n",
    "UNION ALL SELECT 46777394, 42, 43.4, 60, 50, 10, 30, 20, 27, 43, 241, 4565\n",
    "UNION ALL SELECT 46777831, 33, 40.4, 51, 46, 15, 16, 26, 33, 40, 234, 4563\n",
    "UNION ALL SELECT 46779160, 29, 26.4, 50, 61, 8, 31, 15, 36, 40, 242, 4562\n",
    "UNION ALL SELECT 46778595, 43, 28.4, 49, 47, 7, 28, 22, 27, 43, 224, 4555\n",
    "UNION ALL SELECT 46779482, 34, 33.4, 64, 44, 10, 17, 27, 43, 52, 222, 4556\n",
    "UNION ALL SELECT 46779650, 39, 37.4, 51, 62, 13, 31, 25, 31, 52, 224, 4551\n",
    "UNION ALL SELECT 46780524, 33, 40.4, 60, 53, 18, 32, 31, 31, 39, 232, 4563\n",
    "UNION ALL SELECT 46780634, 39, 35.4, 46, 44, 16, 33, 19, 31, 52, 242, 4557\n",
    "UNION ALL SELECT 46781887, 24, 30.4, 54, 62, 13, 18, 29, 24, 52, 223, 4561\n",
    "    \n",
    "    "
   ]
  },
  {
   "cell_type": "code",
   "execution_count": 3,
   "id": "5cce6fc5-7cb7-42b3-a6d7-54c32e39d98c",
   "metadata": {
    "execution": {
     "iopub.execute_input": "2024-03-16T08:27:53.446303Z",
     "iopub.status.busy": "2024-03-16T08:27:53.445924Z",
     "iopub.status.idle": "2024-03-16T08:27:56.136865Z",
     "shell.execute_reply": "2024-03-16T08:27:56.136184Z",
     "shell.execute_reply.started": "2024-03-16T08:27:53.446275Z"
    },
    "tags": []
   },
   "outputs": [
    {
     "data": {
      "application/vnd.jupyter.widget-view+json": {
       "model_id": "",
       "version_major": 2,
       "version_minor": 0
      },
      "text/plain": [
       "FloatProgress(value=0.0, bar_style='info', description='Progress:', layout=Layout(height='25px', width='50%'),…"
      ]
     },
     "metadata": {},
     "output_type": "display_data"
    },
    {
     "data": {
      "text/html": [
       "<style>.jp-OutputArea-child .jupyter-widgets.jp-OutputArea-output { overflow: auto; }</style>"
      ],
      "text/plain": [
       "<IPython.core.display.HTML object>"
      ]
     },
     "metadata": {},
     "output_type": "display_data"
    },
    {
     "data": {
      "application/vnd.jupyter.widget-view+json": {
       "model_id": "5f0661261715451bb3537010bb9550c7",
       "version_major": 2,
       "version_minor": 0
      },
      "text/plain": [
       "VBox(children=(HBox(), EncodingWidget(children=(VBox(children=(HTML(value='Encoding:'), Dropdown(description='…"
      ]
     },
     "metadata": {},
     "output_type": "display_data"
    },
    {
     "data": {
      "application/vnd.jupyter.widget-view+json": {
       "model_id": "6f93b4c3bb6d4849a4c9cce34d3df490",
       "version_major": 2,
       "version_minor": 0
      },
      "text/plain": [
       "Output()"
      ]
     },
     "metadata": {},
     "output_type": "display_data"
    }
   ],
   "source": [
    "%%sql \n",
    "create table if not exists iceberg.coregold.nyc as \n",
    "select * from  parquet.`s3://core-bronze-585742243097-us-east-1/nyc/yellow_tripdata_2023-01 (3).parquet`"
   ]
  },
  {
   "cell_type": "code",
   "execution_count": 5,
   "id": "11cb47dc-1438-4d29-8025-55da7e85f1a4",
   "metadata": {
    "execution": {
     "iopub.execute_input": "2024-03-16T08:28:48.285160Z",
     "iopub.status.busy": "2024-03-16T08:28:48.284717Z",
     "iopub.status.idle": "2024-03-16T08:28:48.932876Z",
     "shell.execute_reply": "2024-03-16T08:28:48.932134Z",
     "shell.execute_reply.started": "2024-03-16T08:28:48.285130Z"
    },
    "tags": []
   },
   "outputs": [
    {
     "data": {
      "application/vnd.jupyter.widget-view+json": {
       "model_id": "",
       "version_major": 2,
       "version_minor": 0
      },
      "text/plain": [
       "FloatProgress(value=0.0, bar_style='info', description='Progress:', layout=Layout(height='25px', width='50%'),…"
      ]
     },
     "metadata": {},
     "output_type": "display_data"
    },
    {
     "data": {
      "text/html": [
       "<style>.jp-OutputArea-child .jupyter-widgets.jp-OutputArea-output { overflow: auto; }</style>"
      ],
      "text/plain": [
       "<IPython.core.display.HTML object>"
      ]
     },
     "metadata": {},
     "output_type": "display_data"
    },
    {
     "data": {
      "application/vnd.jupyter.widget-view+json": {
       "model_id": "e3b9cbfb8b6348c084a6760568e7c817",
       "version_major": 2,
       "version_minor": 0
      },
      "text/plain": [
       "VBox(children=(HBox(), EncodingWidget(children=(VBox(children=(HTML(value='Encoding:'), Dropdown(description='…"
      ]
     },
     "metadata": {},
     "output_type": "display_data"
    },
    {
     "data": {
      "application/vnd.jupyter.widget-view+json": {
       "model_id": "b20012ef26bd4d50ba0c8295e33270e1",
       "version_major": 2,
       "version_minor": 0
      },
      "text/plain": [
       "Output()"
      ]
     },
     "metadata": {},
     "output_type": "display_data"
    }
   ],
   "source": [
    "%%sql \n",
    "\n",
    "use coregold"
   ]
  },
  {
   "cell_type": "code",
   "execution_count": 8,
   "id": "69c0e1d5-5e1c-473d-b166-49c6e409e20e",
   "metadata": {
    "execution": {
     "iopub.execute_input": "2024-03-16T08:33:44.595583Z",
     "iopub.status.busy": "2024-03-16T08:33:44.595117Z",
     "iopub.status.idle": "2024-03-16T08:33:50.779448Z",
     "shell.execute_reply": "2024-03-16T08:33:50.778684Z",
     "shell.execute_reply.started": "2024-03-16T08:33:44.595551Z"
    },
    "tags": []
   },
   "outputs": [
    {
     "data": {
      "application/vnd.jupyter.widget-view+json": {
       "model_id": "",
       "version_major": 2,
       "version_minor": 0
      },
      "text/plain": [
       "FloatProgress(value=0.0, bar_style='info', description='Progress:', layout=Layout(height='25px', width='50%'),…"
      ]
     },
     "metadata": {},
     "output_type": "display_data"
    },
    {
     "data": {
      "text/html": [
       "<style>.jp-OutputArea-child .jupyter-widgets.jp-OutputArea-output { overflow: auto; }</style>"
      ],
      "text/plain": [
       "<IPython.core.display.HTML object>"
      ]
     },
     "metadata": {},
     "output_type": "display_data"
    },
    {
     "data": {
      "application/vnd.jupyter.widget-view+json": {
       "model_id": "fdb99cde9778451ea4000a67dbbed548",
       "version_major": 2,
       "version_minor": 0
      },
      "text/plain": [
       "VBox(children=(HBox(children=(HTML(value='Type:'), Button(description='Table', layout=Layout(width='70px'), st…"
      ]
     },
     "metadata": {},
     "output_type": "display_data"
    },
    {
     "data": {
      "application/vnd.jupyter.widget-view+json": {
       "model_id": "cb7342c7cc914fa5adfec565443c68dc",
       "version_major": 2,
       "version_minor": 0
      },
      "text/plain": [
       "Output()"
      ]
     },
     "metadata": {},
     "output_type": "display_data"
    }
   ],
   "source": [
    "%%sql -o nycpd\n",
    "select * from  parquet.`s3://core-bronze-585742243097-us-east-1/nyc/yellow_tripdata_2023-01 (3).parquet` "
   ]
  },
  {
   "cell_type": "code",
   "execution_count": 14,
   "id": "c91d4ca3-4fad-4e16-8519-4bcf6f010555",
   "metadata": {
    "execution": {
     "iopub.execute_input": "2024-03-16T08:40:45.445356Z",
     "iopub.status.busy": "2024-03-16T08:40:45.444890Z",
     "iopub.status.idle": "2024-03-16T08:40:46.058781Z",
     "shell.execute_reply": "2024-03-16T08:40:46.058037Z",
     "shell.execute_reply.started": "2024-03-16T08:40:45.445324Z"
    }
   },
   "outputs": [
    {
     "data": {
      "text/html": [
       "<style>.jp-OutputArea-child .jupyter-widgets.jp-OutputArea-output { overflow: auto; }</style>"
      ],
      "text/plain": [
       "<IPython.core.display.HTML object>"
      ]
     },
     "metadata": {},
     "output_type": "display_data"
    },
    {
     "data": {
      "application/vnd.jupyter.widget-view+json": {
       "model_id": "64e614a4b3eb4af5958793acaf063844",
       "version_major": 2,
       "version_minor": 0
      },
      "text/plain": [
       "VBox(children=(HBox(children=(HTML(value='Type:'), Button(description='Table', layout=Layout(width='70px'), st…"
      ]
     },
     "metadata": {},
     "output_type": "display_data"
    },
    {
     "data": {
      "application/vnd.jupyter.widget-view+json": {
       "model_id": "da0f579d1dae4ab6b07ed7d12c399088",
       "version_major": 2,
       "version_minor": 0
      },
      "text/plain": [
       "Output()"
      ]
     },
     "metadata": {},
     "output_type": "display_data"
    }
   ],
   "source": [
    "%local\n",
    "nycpd.head()"
   ]
  },
  {
   "cell_type": "code",
   "execution_count": null,
   "id": "d17dd235-42b9-4cd2-9135-6ec7d56bc242",
   "metadata": {},
   "outputs": [],
   "source": []
  }
 ],
 "metadata": {
  "kernelspec": {
   "display_name": "PySpark",
   "language": "python",
   "name": "spark_magic_pyspark"
  },
  "language_info": {
   "codemirror_mode": {
    "name": "python",
    "version": 3
   },
   "file_extension": ".py",
   "mimetype": "text/x-python",
   "name": "pyspark",
   "pygments_lexer": "python3"
  }
 },
 "nbformat": 4,
 "nbformat_minor": 5
}
